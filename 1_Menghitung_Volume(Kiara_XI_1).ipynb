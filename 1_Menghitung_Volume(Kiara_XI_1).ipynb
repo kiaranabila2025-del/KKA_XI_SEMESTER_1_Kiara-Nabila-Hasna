{
  "nbformat": 4,
  "nbformat_minor": 0,
  "metadata": {
    "colab": {
      "provenance": [],
      "authorship_tag": "ABX9TyMAhH7YPcxnoE7ledv0Mswo",
      "include_colab_link": true
    },
    "kernelspec": {
      "name": "python3",
      "display_name": "Python 3"
    },
    "language_info": {
      "name": "python"
    }
  },
  "cells": [
    {
      "cell_type": "markdown",
      "metadata": {
        "id": "view-in-github",
        "colab_type": "text"
      },
      "source": [
        "<a href=\"https://colab.research.google.com/github/kiaranabila2025-del/KKA_XI_SEMESTER_1_Kiara-Nabila-Hasna/blob/main/1_Menghitung_Volume(Kiara_XI_1).ipynb\" target=\"_parent\"><img src=\"https://colab.research.google.com/assets/colab-badge.svg\" alt=\"Open In Colab\"/></a>"
      ]
    },
    {
      "cell_type": "markdown",
      "source": [
        "#APLIKASI SEDERHANA MENGHITUNG VOLUME"
      ],
      "metadata": {
        "id": "aMln8-0fkE2G"
      }
    },
    {
      "cell_type": "markdown",
      "source": [
        "#Nama :Kiara Nabila Hasna\n",
        "#Kelas :XI.1\n",
        "#No Absen :22\n",
        "#Nama Kelompok :Hampstead"
      ],
      "metadata": {
        "id": "woDMh8R9kJf-"
      }
    },
    {
      "cell_type": "code",
      "source": [
        "alas = float(input(\"Masukkan panjang alas segitiga (cm): \"))\n",
        "tinggi_segitiga = float(input(\"Masukkan tinggi segitiga (cm): \"))\n",
        "tinggi_prisma = float(input(\"Masukkan tinggi prisma (cm): \"))\n",
        "\n",
        "volume = 0.5 * alas * tinggi_segitiga * tinggi_prisma\n",
        "\n",
        "print(f\"Volume prisma segitiga adalah: {volume} cm³\")"
      ],
      "metadata": {
        "colab": {
          "base_uri": "https://localhost:8080/"
        },
        "id": "UDJMG7ECkcJH",
        "outputId": "d1b4a20d-89e7-4663-beaa-c9b458021a14"
      },
      "execution_count": null,
      "outputs": [
        {
          "output_type": "stream",
          "name": "stdout",
          "text": [
            "Masukkan panjang alas segitiga (cm): 5\n",
            "Masukkan tinggi segitiga (cm): 2\n",
            "Masukkan tinggi prisma (cm): 4\n",
            "Volume prisma segitiga adalah: 20.0 cm³\n"
          ]
        }
      ]
    }
  ]
}