{
  "nbformat": 4,
  "nbformat_minor": 0,
  "metadata": {
    "colab": {
      "provenance": [],
      "authorship_tag": "ABX9TyNZ4mazxaPZFIp9SIpF0iip",
      "include_colab_link": true
    },
    "kernelspec": {
      "name": "python3",
      "display_name": "Python 3"
    },
    "language_info": {
      "name": "python"
    }
  },
  "cells": [
    {
      "cell_type": "markdown",
      "metadata": {
        "id": "view-in-github",
        "colab_type": "text"
      },
      "source": [
        "<a href=\"https://colab.research.google.com/github/kiaranabila2025-del/KKA_XI_SEMESTER_1_Kiara-Nabila-Hasna/blob/main/FUNGSI_PRINT_KIARA_NABILA_H(XI_1).ipynb\" target=\"_parent\"><img src=\"https://colab.research.google.com/assets/colab-badge.svg\" alt=\"Open In Colab\"/></a>"
      ]
    },
    {
      "cell_type": "markdown",
      "source": [
        "#Menampilkan Teks Bebas"
      ],
      "metadata": {
        "id": "1dxgT42xB9rG"
      }
    },
    {
      "cell_type": "code",
      "source": [
        "print(\"Kiara Nabila Hasna\")"
      ],
      "metadata": {
        "colab": {
          "base_uri": "https://localhost:8080/"
        },
        "id": "17nTM6UvGoM5",
        "outputId": "9ced6977-db3a-482e-c138-5d3dc1fccf92"
      },
      "execution_count": null,
      "outputs": [
        {
          "output_type": "stream",
          "name": "stdout",
          "text": [
            "Kiara Nabila Hasna\n"
          ]
        }
      ]
    },
    {
      "cell_type": "code",
      "source": [
        "nama = \"Kiara Nabila Hasna\"\n",
        "print(\"Kiara Nabila Hasna\")"
      ],
      "metadata": {
        "colab": {
          "base_uri": "https://localhost:8080/"
        },
        "id": "xHQmBMZ-bLcs",
        "outputId": "13659736-316d-49b1-e9ce-fa4ca5d57e82"
      },
      "execution_count": null,
      "outputs": [
        {
          "output_type": "stream",
          "name": "stdout",
          "text": [
            "Kiara Nabila Hasna\n"
          ]
        }
      ]
    },
    {
      "cell_type": "code",
      "execution_count": null,
      "metadata": {
        "id": "bEY4TcQH_h2-",
        "colab": {
          "base_uri": "https://localhost:8080/"
        },
        "outputId": "3affaa55-3fdb-494c-94e5-438b2dcf2cab"
      },
      "outputs": [
        {
          "output_type": "stream",
          "name": "stdout",
          "text": [
            "Hallo Dunia\n"
          ]
        }
      ],
      "source": [
        "print(\"Hallo Dunia\")"
      ]
    },
    {
      "cell_type": "code",
      "source": [
        "print('Selamat datang di phyton')"
      ],
      "metadata": {
        "colab": {
          "base_uri": "https://localhost:8080/"
        },
        "id": "svEOIsqFas40",
        "outputId": "0297e329-f48f-4c7b-f770-c036e93845de"
      },
      "execution_count": null,
      "outputs": [
        {
          "output_type": "stream",
          "name": "stdout",
          "text": [
            "Selamat datang di phyton\n"
          ]
        }
      ]
    },
    {
      "cell_type": "code",
      "source": [
        "print(\"Belajar phyton itu menyenangkan\")"
      ],
      "metadata": {
        "colab": {
          "base_uri": "https://localhost:8080/"
        },
        "id": "NM6A7Gcha5Xx",
        "outputId": "49b08530-c1bd-436b-889e-8876fe31575c"
      },
      "execution_count": null,
      "outputs": [
        {
          "output_type": "stream",
          "name": "stdout",
          "text": [
            "Belajar phyton itu menyenangkan\n"
          ]
        }
      ]
    },
    {
      "cell_type": "markdown",
      "source": [
        "#MENAMPILKAN VARIABEL"
      ],
      "metadata": {
        "id": "COwz6BX2J2i7"
      }
    },
    {
      "cell_type": "code",
      "source": [
        "BB = 50\n",
        "print(BB)"
      ],
      "metadata": {
        "colab": {
          "base_uri": "https://localhost:8080/"
        },
        "id": "4tqkRmEFHFHd",
        "outputId": "374dfa2d-6016-4b7d-ed7e-cb10ddc65edd"
      },
      "execution_count": null,
      "outputs": [
        {
          "output_type": "stream",
          "name": "stdout",
          "text": [
            "50\n"
          ]
        }
      ]
    },
    {
      "cell_type": "code",
      "source": [
        "umur = 15\n",
        "print(umur)"
      ],
      "metadata": {
        "colab": {
          "base_uri": "https://localhost:8080/"
        },
        "id": "dsuAY0CPHR3E",
        "outputId": "abc63ce0-7a0d-4b50-97c9-792720f92f9c"
      },
      "execution_count": null,
      "outputs": [
        {
          "output_type": "stream",
          "name": "stdout",
          "text": [
            "15\n"
          ]
        }
      ]
    },
    {
      "cell_type": "markdown",
      "source": [
        "#MENAMPILKAN TEKS BEBAS DAN VARIABEL"
      ],
      "metadata": {
        "id": "7nnu07lKKkT5"
      }
    },
    {
      "cell_type": "code",
      "source": [
        "harga_telur = 26000\n",
        "print(\" Harga telur per 1 kg adalah \",harga_telur)"
      ],
      "metadata": {
        "colab": {
          "base_uri": "https://localhost:8080/"
        },
        "id": "Wmy3KVLSBkA8",
        "outputId": "b1837822-152b-4b67-93cd-e60f232ac750"
      },
      "execution_count": null,
      "outputs": [
        {
          "output_type": "stream",
          "name": "stdout",
          "text": [
            " Harga telur per 1 kg adalah  26000\n"
          ]
        }
      ]
    },
    {
      "cell_type": "code",
      "source": [
        "nama_pembeli = \"Kiara\"\n",
        "print(\" Nama pembeli telur adalah \" + nama_pembeli)"
      ],
      "metadata": {
        "colab": {
          "base_uri": "https://localhost:8080/"
        },
        "id": "EPGPQdCFDT8G",
        "outputId": "c8e87a27-5144-4529-be8f-312a4c00c77d"
      },
      "execution_count": null,
      "outputs": [
        {
          "output_type": "stream",
          "name": "stdout",
          "text": [
            " Nama pembeli telur adalah Kiara\n"
          ]
        }
      ]
    },
    {
      "cell_type": "code",
      "source": [
        "harga_telur = 26000\n",
        "\n",
        "print(\" Harga telur per 1 kg adalah \" + str (harga_telur))"
      ],
      "metadata": {
        "colab": {
          "base_uri": "https://localhost:8080/"
        },
        "id": "i9kl-7NKJBNx",
        "outputId": "4c41f74f-e415-4652-c6e5-062067562083"
      },
      "execution_count": null,
      "outputs": [
        {
          "output_type": "stream",
          "name": "stdout",
          "text": [
            " Harga telur per 1 kg adalah 26000\n"
          ]
        }
      ]
    },
    {
      "cell_type": "markdown",
      "source": [
        "Latihan soal\n",
        "\n",
        "1.Tampilkan teks bebas: Hari ini saya bahagia belajar bahasa phyton\n",
        "2.Tampilkan nilai variabel: mata_pelajaran_favorit = kode dan kecerdasan buatan\n",
        "3.Tampilkan nilai variabel:nilai_kka = 100\n",
        "4.Tampilkan teks bebas dan nilai variabel dengan tiga metode (f string,\"+\",\",):\"Nilai KKA saya adalah{nilai_kka}loh!\""
      ],
      "metadata": {
        "id": "RQkD7WgPGrVS"
      }
    },
    {
      "cell_type": "markdown",
      "source": [
        "#Escape Character"
      ],
      "metadata": {
        "id": "SI2x2A36JNWR"
      }
    },
    {
      "cell_type": "code",
      "source": [
        "print(\"Nama:Kiara Nabila Hasna\")\n",
        "print(\"Kelas:XI.1\")\n",
        "print(\"Nomer Absensi:22\")"
      ],
      "metadata": {
        "colab": {
          "base_uri": "https://localhost:8080/"
        },
        "id": "ujSST-ckHfFG",
        "outputId": "1f707044-40d0-4c5d-b69b-5b08426334fa"
      },
      "execution_count": null,
      "outputs": [
        {
          "output_type": "stream",
          "name": "stdout",
          "text": [
            "Nama:Kiara Nabila Hasna\n",
            "Kelas:XI.1\n",
            "Nomer Absensi:22\n"
          ]
        }
      ]
    },
    {
      "cell_type": "code",
      "source": [
        "print(\"Nama\\t\\t:Kiara Nabila Hasna\\nKelas\\t\\t: XI.1\\nNomor absen\\t: 22\")"
      ],
      "metadata": {
        "colab": {
          "base_uri": "https://localhost:8080/"
        },
        "id": "Ab9dYusfJR5P",
        "outputId": "f569f26d-544a-4f98-b2fa-cf9bcf077fb8"
      },
      "execution_count": null,
      "outputs": [
        {
          "output_type": "stream",
          "name": "stdout",
          "text": [
            "Nama\t\t:Kiara Nabila Hasna\n",
            "Kelas\t\t: XI.1\n",
            "Nomor absen\t: 22\n"
          ]
        }
      ]
    },
    {
      "cell_type": "code",
      "source": [
        "print(\"\"\"Nama\\t\\t: Kiara Nabila Hasna\n",
        "Kelas\\t\\t: XI.1\n",
        "Nomor absen\\t: 22\"\"\")"
      ],
      "metadata": {
        "colab": {
          "base_uri": "https://localhost:8080/"
        },
        "id": "wAa4IxdVK_8W",
        "outputId": "106dfac2-4fb4-4f14-a6f6-ddafe8d7f722"
      },
      "execution_count": null,
      "outputs": [
        {
          "output_type": "stream",
          "name": "stdout",
          "text": [
            "Nama\t\t: Kiara Nabila Hasna\n",
            "Kelas\t\t: XI.1\n",
            "Nomor absen\t: 22\n"
          ]
        }
      ]
    },
    {
      "cell_type": "code",
      "source": [
        "print(\"Hari ini saya bahagia belajar bahasa phyton\")"
      ],
      "metadata": {
        "colab": {
          "base_uri": "https://localhost:8080/"
        },
        "id": "Pavnha3kWiC6",
        "outputId": "8f184a71-cd4b-4d63-9c4a-315b51132d72"
      },
      "execution_count": null,
      "outputs": [
        {
          "output_type": "stream",
          "name": "stdout",
          "text": [
            "Hari ini saya bahagia belajar bahasa phyton\n"
          ]
        }
      ]
    },
    {
      "cell_type": "code",
      "source": [
        "mata_pelajaran_favorit =\"kode dan kecerdasan buatan\"\n",
        "print (mata_pelajaran_favorit)"
      ],
      "metadata": {
        "colab": {
          "base_uri": "https://localhost:8080/"
        },
        "id": "AokrJEdhWwUY",
        "outputId": "2eea67af-e790-4205-d79b-439faac9c883"
      },
      "execution_count": null,
      "outputs": [
        {
          "output_type": "stream",
          "name": "stdout",
          "text": [
            "kode dan kecerdasan buatan\n"
          ]
        }
      ]
    },
    {
      "cell_type": "code",
      "source": [
        "nilai_kka = 100\n",
        "print(nilai_kka)"
      ],
      "metadata": {
        "colab": {
          "base_uri": "https://localhost:8080/"
        },
        "id": "u_9qQ-lPXSe1",
        "outputId": "7ed86480-d5e7-476f-b732-af05b0f7762e"
      },
      "execution_count": null,
      "outputs": [
        {
          "output_type": "stream",
          "name": "stdout",
          "text": [
            "100\n"
          ]
        }
      ]
    },
    {
      "cell_type": "code",
      "source": [
        "nilai_kka = 100\n",
        "print(f\"Nilai KKA saya adalah {nilai_kka} loh!\")"
      ],
      "metadata": {
        "colab": {
          "base_uri": "https://localhost:8080/"
        },
        "id": "mQbp_cv5XxkM",
        "outputId": "9704acaf-18f6-492a-d044-3f3147009601"
      },
      "execution_count": null,
      "outputs": [
        {
          "output_type": "stream",
          "name": "stdout",
          "text": [
            "Nilai KKA saya adalah 100 loh!\n"
          ]
        }
      ]
    },
    {
      "cell_type": "code",
      "source": [
        "nilai_kka = 100\n",
        "print(\" Nilai KKA saya adalah \" + str (nilai_kka) + \" loh! \" )"
      ],
      "metadata": {
        "colab": {
          "base_uri": "https://localhost:8080/"
        },
        "id": "hhUOgOy1Yi5e",
        "outputId": "fb602751-42c0-4959-e6ae-59f2de3c13c1"
      },
      "execution_count": null,
      "outputs": [
        {
          "output_type": "stream",
          "name": "stdout",
          "text": [
            " Nilai KKA saya adalah 100 loh! \n"
          ]
        }
      ]
    },
    {
      "cell_type": "code",
      "source": [
        "nilai_kka = 100\n",
        "print(\" Nilai KKA saya adalah \", nilai_kka, \"loh!\")"
      ],
      "metadata": {
        "colab": {
          "base_uri": "https://localhost:8080/"
        },
        "id": "lpF7wN1kZX08",
        "outputId": "82ff5f39-2349-4171-9a3c-d84a301a63c5"
      },
      "execution_count": null,
      "outputs": [
        {
          "output_type": "stream",
          "name": "stdout",
          "text": [
            " Nilai KKA saya adalah  100 loh!\n"
          ]
        }
      ]
    },
    {
      "cell_type": "code",
      "source": [
        "print('Ja\\'far Shodiq')"
      ],
      "metadata": {
        "colab": {
          "base_uri": "https://localhost:8080/"
        },
        "id": "bu9Dm9TcEGc9",
        "outputId": "f74f5eae-b468-476f-8681-3d31f1fd38cc"
      },
      "execution_count": null,
      "outputs": [
        {
          "output_type": "stream",
          "name": "stdout",
          "text": [
            "Ja'far Shodiq\n"
          ]
        }
      ]
    },
    {
      "cell_type": "code",
      "source": [
        "print(\"Ja'far Shodiq\")"
      ],
      "metadata": {
        "colab": {
          "base_uri": "https://localhost:8080/"
        },
        "id": "XekG0kAhEOev",
        "outputId": "15e02d65-a45d-47af-cc7c-d548a7979e02"
      },
      "execution_count": null,
      "outputs": [
        {
          "output_type": "stream",
          "name": "stdout",
          "text": [
            "Ja'far Shodiq\n"
          ]
        }
      ]
    },
    {
      "cell_type": "code",
      "source": [
        "print(\"Bu shinta berkata,\\\"semua harus menyimak pelajaran \\\\\")"
      ],
      "metadata": {
        "colab": {
          "base_uri": "https://localhost:8080/"
        },
        "id": "-n5k4NtVETKY",
        "outputId": "322037a0-a788-44fa-8714-7847ac0b0eb3"
      },
      "execution_count": null,
      "outputs": [
        {
          "output_type": "stream",
          "name": "stdout",
          "text": [
            "Bu shinta berkata,\"semua harus menyimak pelajaran \\\n"
          ]
        }
      ]
    },
    {
      "cell_type": "code",
      "source": [
        "print('Bu Shinta berkata, \"Semua harus menyimak pelajaran. \" ')"
      ],
      "metadata": {
        "colab": {
          "base_uri": "https://localhost:8080/"
        },
        "id": "CFZ5PN0sEpXR",
        "outputId": "6b1f427a-a5e5-4fd6-e0a6-e6019319c214"
      },
      "execution_count": null,
      "outputs": [
        {
          "output_type": "stream",
          "name": "stdout",
          "text": [
            "Bu Shinta berkata, \"Semua harus menyimak pelajaran. \" \n"
          ]
        }
      ]
    },
    {
      "cell_type": "code",
      "source": [
        "print (\"Lokasi file vidio karnaval ada di D:\\\\Karnaval 2025\\\\M4\")"
      ],
      "metadata": {
        "colab": {
          "base_uri": "https://localhost:8080/"
        },
        "id": "OqdiVaS5ErBF",
        "outputId": "e0b61ec6-b747-49b7-c14f-9f75c9149d1c"
      },
      "execution_count": null,
      "outputs": [
        {
          "output_type": "stream",
          "name": "stdout",
          "text": [
            "Lokasi file vidio karnaval ada di D:\\Karnaval 2025\\M4\n"
          ]
        }
      ]
    },
    {
      "cell_type": "markdown",
      "source": [
        "#Parameter Fungsi Print"
      ],
      "metadata": {
        "id": "KsnszTS5Et94"
      }
    },
    {
      "cell_type": "code",
      "source": [
        "Tahun = 2009\n",
        "Bulan = \"Agustus\"\n",
        "Tanggal =26\n",
        "\n",
        "print(Tanggal, end=\" \")\n",
        "print(Bulan, end=\" \")\n",
        "print(Tahun)"
      ],
      "metadata": {
        "colab": {
          "base_uri": "https://localhost:8080/"
        },
        "id": "j0qUn1m5FCEf",
        "outputId": "6eee87ca-5d13-4e02-e4c6-4ec3e59d4a8d"
      },
      "execution_count": null,
      "outputs": [
        {
          "output_type": "stream",
          "name": "stdout",
          "text": [
            "26 Agustus 2009\n"
          ]
        }
      ]
    },
    {
      "cell_type": "code",
      "source": [
        "Tahun = 2009\n",
        "Bulan = \"Agustus\"\n",
        "Tanggal =26\n",
        "\n",
        "print(Tanggal, Bulan, Tahun, sep=\"/\")"
      ],
      "metadata": {
        "colab": {
          "base_uri": "https://localhost:8080/"
        },
        "id": "t8i8F8bKHXiy",
        "outputId": "6e0fc9af-64ec-492b-c941-afed259a9b24"
      },
      "execution_count": null,
      "outputs": [
        {
          "output_type": "stream",
          "name": "stdout",
          "text": [
            "26/Agustus/2009\n"
          ]
        }
      ]
    },
    {
      "cell_type": "markdown",
      "source": [
        "#LATIHAN:\n",
        "Tanggal-Bulan-Tahun"
      ],
      "metadata": {
        "id": "_ykPDh6HIyBJ"
      }
    },
    {
      "cell_type": "code",
      "source": [
        "Tahun = 2009\n",
        "Bulan = \"Agustus\"\n",
        "Tanggal = 26\n",
        "\n",
        "print(Tanggal, Bulan, Tahun, sep=\"-\")"
      ],
      "metadata": {
        "colab": {
          "base_uri": "https://localhost:8080/"
        },
        "id": "WnnrqChEI7Pp",
        "outputId": "ce756539-86a9-4d4b-c0c2-d4b9a2a4ac65"
      },
      "execution_count": null,
      "outputs": [
        {
          "output_type": "stream",
          "name": "stdout",
          "text": [
            "26-Agustus-2009\n"
          ]
        }
      ]
    },
    {
      "cell_type": "code",
      "source": [
        "Nama_depan = \"Kiara\"\n",
        "Nama_belakang = \"Nabila\"\n",
        "\n",
        "print(Nama_depan, Nama_belakang)"
      ],
      "metadata": {
        "colab": {
          "base_uri": "https://localhost:8080/"
        },
        "id": "65hi_FkQIE4X",
        "outputId": "91950766-7b64-406c-e7d4-b0cc88913d03"
      },
      "execution_count": null,
      "outputs": [
        {
          "output_type": "stream",
          "name": "stdout",
          "text": [
            "Kiara Nabila\n"
          ]
        }
      ]
    },
    {
      "cell_type": "code",
      "source": [
        "Nama_depan = \"Kiara\"\n",
        "Nama_belakang = \"Nabila\"\n",
        "\n",
        "print(Nama_depan, end=\" \")\n",
        "print(Nama_belakang)"
      ],
      "metadata": {
        "colab": {
          "base_uri": "https://localhost:8080/"
        },
        "id": "6yq83hMPIYBF",
        "outputId": "4fcc87af-1db8-4509-f90e-5c84e5c57249"
      },
      "execution_count": null,
      "outputs": [
        {
          "output_type": "stream",
          "name": "stdout",
          "text": [
            "Kiara Nabila\n"
          ]
        }
      ]
    },
    {
      "cell_type": "markdown",
      "source": [
        "#LATIHAN SOAL"
      ],
      "metadata": {
        "id": "5PgAJUmwLtz4"
      }
    },
    {
      "cell_type": "code",
      "source": [
        "print(\"Bu Shinta berkata, berikut adalah judul pelajaran hari senin selasa rabu silahkan disimpan di laptop masing masing di folder local disk D:\\\\ Jadwal Pelajaran Kelas XI Semester I\\\" \")\n",
        "print(\"di folder local disk D:\\\\Jadwal Pelajaran\\\\Kelas XI Semester I\\\"\")\n",
        "print(\"\\nJadwal Pelajaran Mingguan\")\n",
        "print(\"Jam\\tSenin\\t\\tSelasa\\t\\tRabu\")\n",
        "print(\"Jam 1\\tMatematika\\tInformatika\\tInformatika\")\n",
        "print(\"Jam 2\\tBahasa Ing.\\tSejarah\\t\\tMa\\\\'rifatullah\")\n",
        "print(\"Jam 3\\tInformatika\\tOlahraga\\tBiologi\")"
      ],
      "metadata": {
        "colab": {
          "base_uri": "https://localhost:8080/"
        },
        "id": "p4LZ_NPBPFBC",
        "outputId": "9ce3bb97-f7b1-40d7-c461-663e28d12891"
      },
      "execution_count": null,
      "outputs": [
        {
          "output_type": "stream",
          "name": "stdout",
          "text": [
            "Bu Shinta berkata, berikut adalah judul pelajaran hari senin selasa rabu silahkan disimpan di laptop masing masing di folder local disk D:\\ Jadwal Pelajaran Kelas XI Semester I\" \n",
            "di folder local disk D:\\Jadwal Pelajaran\\Kelas XI Semester I\"\n",
            "\n",
            "Jadwal Pelajaran Mingguan\n",
            "Jam\tSenin\t\tSelasa\t\tRabu\n",
            "Jam 1\tMatematika\tInformatika\tInformatika\n",
            "Jam 2\tBahasa Ing.\tSejarah\t\tMa\\'rifatullah\n",
            "Jam 3\tInformatika\tOlahraga\tBiologi\n"
          ]
        }
      ]
    },
    {
      "cell_type": "markdown",
      "source": [
        "#Konsep Dasar"
      ],
      "metadata": {
        "id": "BPcdga3mdQGx"
      }
    },
    {
      "cell_type": "code",
      "source": [
        "email_user_1 = \"Kiaranabila.2025@gmail.com\"\n",
        "print(email_user_1)"
      ],
      "metadata": {
        "colab": {
          "base_uri": "https://localhost:8080/"
        },
        "id": "fGszvmGydboW",
        "outputId": "f66ef7b4-7640-40ad-f9b7-86152d674aa7"
      },
      "execution_count": null,
      "outputs": [
        {
          "output_type": "stream",
          "name": "stdout",
          "text": [
            "Kiaranabila.2025@gmail.com\n"
          ]
        }
      ]
    },
    {
      "cell_type": "code",
      "source": [
        "sabun_lifebuoy = 15000\n",
        "print(sabun_lifebuoy)"
      ],
      "metadata": {
        "colab": {
          "base_uri": "https://localhost:8080/"
        },
        "id": "BRKIODNjeJgu",
        "outputId": "1cbba24b-24e4-424e-8ea7-2eee1cb67217"
      },
      "execution_count": null,
      "outputs": [
        {
          "output_type": "stream",
          "name": "stdout",
          "text": [
            "15000\n"
          ]
        }
      ]
    },
    {
      "cell_type": "code",
      "source": [
        "print(sabun_lifebuoy*5)"
      ],
      "metadata": {
        "colab": {
          "base_uri": "https://localhost:8080/"
        },
        "id": "4hBU5OzHeW52",
        "outputId": "c9051e93-0114-48a1-e17d-7b10fbbd339c"
      },
      "execution_count": null,
      "outputs": [
        {
          "output_type": "stream",
          "name": "stdout",
          "text": [
            "75000\n"
          ]
        }
      ]
    },
    {
      "cell_type": "markdown",
      "source": [
        "#Peraturan Penulisan Variabel"
      ],
      "metadata": {
        "id": "981qabzgejnG"
      }
    },
    {
      "cell_type": "code",
      "source": [
        "#Penulisan variabel hanya boleh menggunakan huruf, angka, dan underscore\n",
        "#Tidak boleh menggunakan spasi\n",
        "nama siswa = \"Afa\"\n",
        "\n",
        "print(nama siswa)"
      ],
      "metadata": {
        "colab": {
          "base_uri": "https://localhost:8080/",
          "height": 124
        },
        "id": "w5gWkEU0enx3",
        "outputId": "270264f3-7886-4f3e-c77d-3bedd8002c00"
      },
      "execution_count": null,
      "outputs": [
        {
          "output_type": "error",
          "ename": "SyntaxError",
          "evalue": "invalid syntax (ipython-input-1537453249.py, line 3)",
          "traceback": [
            "\u001b[0;36m  File \u001b[0;32m\"/tmp/ipython-input-1537453249.py\"\u001b[0;36m, line \u001b[0;32m3\u001b[0m\n\u001b[0;31m    nama siswa = \"Afa\"\u001b[0m\n\u001b[0m         ^\u001b[0m\n\u001b[0;31mSyntaxError\u001b[0m\u001b[0;31m:\u001b[0m invalid syntax\n"
          ]
        }
      ]
    },
    {
      "cell_type": "code",
      "source": [
        "#tidak boleh diawali dengan angka\n",
        "\n",
        "1_nama_siswa = \"Afa\"\n",
        "print(1_nama_siswa)"
      ],
      "metadata": {
        "colab": {
          "base_uri": "https://localhost:8080/",
          "height": 141
        },
        "id": "ZZoBHKBfe-Zx",
        "outputId": "2588fb3a-487a-460b-e49d-6af8853b79a6"
      },
      "execution_count": null,
      "outputs": [
        {
          "output_type": "error",
          "ename": "SyntaxError",
          "evalue": "invalid decimal literal (ipython-input-2537239670.py, line 3)",
          "traceback": [
            "\u001b[0;36m  File \u001b[0;32m\"/tmp/ipython-input-2537239670.py\"\u001b[0;36m, line \u001b[0;32m3\u001b[0m\n\u001b[0;31m    1_nama_siswa = \"Afa\"\u001b[0m\n\u001b[0m     ^\u001b[0m\n\u001b[0;31mSyntaxError\u001b[0m\u001b[0;31m:\u001b[0m invalid decimal literal\n"
          ]
        }
      ]
    },
    {
      "cell_type": "code",
      "source": [
        "#penulisan variabel itu case sensitive/sensitif capslock\n",
        "nama_siswa_1 = \"Afa\"\n",
        "\n",
        "print(Nama_siswa_1)"
      ],
      "metadata": {
        "colab": {
          "base_uri": "https://localhost:8080/",
          "height": 297
        },
        "id": "gNw1d7_6hEjV",
        "outputId": "08152ea8-8bfe-4922-bc6b-e7d466b36de9"
      },
      "execution_count": null,
      "outputs": [
        {
          "output_type": "error",
          "ename": "NameError",
          "evalue": "name 'Nama_siswa_1' is not defined",
          "traceback": [
            "\u001b[0;31m---------------------------------------------------------------------------\u001b[0m",
            "\u001b[0;31mNameError\u001b[0m                                 Traceback (most recent call last)",
            "\u001b[0;32m/tmp/ipython-input-3728975903.py\u001b[0m in \u001b[0;36m<cell line: 0>\u001b[0;34m()\u001b[0m\n\u001b[1;32m      2\u001b[0m \u001b[0mnama_siswa_1\u001b[0m \u001b[0;34m=\u001b[0m \u001b[0;34m\"Afa\"\u001b[0m\u001b[0;34m\u001b[0m\u001b[0;34m\u001b[0m\u001b[0m\n\u001b[1;32m      3\u001b[0m \u001b[0;34m\u001b[0m\u001b[0m\n\u001b[0;32m----> 4\u001b[0;31m \u001b[0mprint\u001b[0m\u001b[0;34m(\u001b[0m\u001b[0mNama_siswa_1\u001b[0m\u001b[0;34m)\u001b[0m\u001b[0;34m\u001b[0m\u001b[0;34m\u001b[0m\u001b[0m\n\u001b[0m",
            "\u001b[0;31mNameError\u001b[0m: name 'Nama_siswa_1' is not defined"
          ]
        }
      ]
    },
    {
      "cell_type": "code",
      "source": [
        "#dilarang menggunakan kata kunci di bahas phyton\n",
        "prin = \"Afa\"\n",
        "\n",
        "print(prin)"
      ],
      "metadata": {
        "colab": {
          "base_uri": "https://localhost:8080/"
        },
        "id": "Zfvbl8jchwad",
        "outputId": "683b18bf-2bde-4c00-b21c-20b37bf37094"
      },
      "execution_count": null,
      "outputs": [
        {
          "output_type": "stream",
          "name": "stdout",
          "text": [
            "Afa\n"
          ]
        }
      ]
    },
    {
      "cell_type": "code",
      "source": [
        "end = \"Naufal\"\n",
        "print(end)"
      ],
      "metadata": {
        "colab": {
          "base_uri": "https://localhost:8080/"
        },
        "id": "FQrWAn1oiJtk",
        "outputId": "86c11e51-e5d2-4dc0-9914-5ea19dcd5aaa"
      },
      "execution_count": null,
      "outputs": [
        {
          "output_type": "stream",
          "name": "stdout",
          "text": [
            "Naufal\n"
          ]
        }
      ]
    },
    {
      "cell_type": "code",
      "source": [
        "#Deskriptive\n",
        "_ = \"Favian\"\n",
        "\n",
        "print(_)"
      ],
      "metadata": {
        "colab": {
          "base_uri": "https://localhost:8080/"
        },
        "id": "37Y9HwmAiWxT",
        "outputId": "5d87a567-ed22-4d21-e969-5910f61bd3e1"
      },
      "execution_count": null,
      "outputs": [
        {
          "output_type": "stream",
          "name": "stdout",
          "text": [
            "Favian\n"
          ]
        }
      ]
    },
    {
      "cell_type": "code",
      "source": [
        "#Tidak boleh pakai kata kunci phyton\n",
        "#print = \"Devin\"\n",
        "#Kalau error, harus diconnect dulu\n",
        "#print(print)"
      ],
      "metadata": {
        "id": "EybVneUli2bT"
      },
      "execution_count": null,
      "outputs": []
    },
    {
      "cell_type": "markdown",
      "source": [
        "#Assignment"
      ],
      "metadata": {
        "id": "NxvmoR5xjEQQ"
      }
    },
    {
      "cell_type": "markdown",
      "source": [
        "#Single Assignment"
      ],
      "metadata": {
        "id": "T7CeEa2NjKHK"
      }
    },
    {
      "cell_type": "code",
      "source": [
        "nama_siswa_2 = \"Dhapne\"\n",
        "nama_siswa_3 = \"Farel\"\n",
        "print(nama_siswa_2)\n",
        "print(nama_siswa_3)"
      ],
      "metadata": {
        "colab": {
          "base_uri": "https://localhost:8080/"
        },
        "id": "SJmRYIh-jQir",
        "outputId": "547b7e97-9994-4203-954c-e475fc1da8d1"
      },
      "execution_count": null,
      "outputs": [
        {
          "output_type": "stream",
          "name": "stdout",
          "text": [
            "Dhapne\n",
            "Farel\n"
          ]
        }
      ]
    },
    {
      "cell_type": "markdown",
      "source": [
        "#Multiple Assignment"
      ],
      "metadata": {
        "id": "Zx8t3v02jwR6"
      }
    },
    {
      "cell_type": "code",
      "source": [
        "nama_siswa_4, nama_siswa_5 = \"Sada\", \"Selo\"\n",
        "print(nama_siswa_4)\n",
        "print(nama_siswa_5)"
      ],
      "metadata": {
        "colab": {
          "base_uri": "https://localhost:8080/"
        },
        "id": "p-I1-oO8jzlH",
        "outputId": "8352c84e-27e9-40f9-e93a-cfcb65c76859"
      },
      "execution_count": null,
      "outputs": [
        {
          "output_type": "stream",
          "name": "stdout",
          "text": [
            "Sada\n",
            "Selo\n"
          ]
        }
      ]
    },
    {
      "cell_type": "markdown",
      "source": [
        "#Assign ke Banyak Variabel Sekaligus"
      ],
      "metadata": {
        "id": "TLyVMJV_kb5v"
      }
    },
    {
      "cell_type": "code",
      "source": [
        "nilai_afa = nilai_favian = 100\n",
        "\n",
        "print(nilai_afa)\n",
        "print(nilai_favian)"
      ],
      "metadata": {
        "colab": {
          "base_uri": "https://localhost:8080/"
        },
        "id": "6qip-7fxkhVX",
        "outputId": "166b193b-4c45-45da-f531-397fc4770ab5"
      },
      "execution_count": null,
      "outputs": [
        {
          "output_type": "stream",
          "name": "stdout",
          "text": [
            "100\n",
            "100\n"
          ]
        }
      ]
    },
    {
      "cell_type": "markdown",
      "source": [
        "#Perubahan Nilai Variabel"
      ],
      "metadata": {
        "id": "HufzLruHnSXg"
      }
    },
    {
      "cell_type": "code",
      "source": [
        "nilai_afa = 95\n",
        "print(nilai_afa)"
      ],
      "metadata": {
        "colab": {
          "base_uri": "https://localhost:8080/"
        },
        "id": "o5YZR608nVOS",
        "outputId": "6785563b-2bc7-4212-cf00-79fc34ee56ef"
      },
      "execution_count": null,
      "outputs": [
        {
          "output_type": "stream",
          "name": "stdout",
          "text": [
            "95\n"
          ]
        }
      ]
    },
    {
      "cell_type": "markdown",
      "source": [
        "#latihan soal harga barang di swalayan"
      ],
      "metadata": {
        "id": "lMK2U-mccJP7"
      }
    },
    {
      "cell_type": "code",
      "source": [
        "susu = 15000\n",
        "roti = 12000\n",
        "telur = 24000\n",
        "print(\"Harga susu:\", susu)\n",
        "print(\"Harga roti:\", roti)\n",
        "print(\"Harga telur:\", telur)"
      ],
      "metadata": {
        "colab": {
          "base_uri": "https://localhost:8080/"
        },
        "id": "fA5yS7vKPiMs",
        "outputId": "eb9c4626-c639-440b-e4e0-f3b43912f46a"
      },
      "execution_count": null,
      "outputs": [
        {
          "output_type": "stream",
          "name": "stdout",
          "text": [
            "Harga susu: 15000\n",
            "Harga roti: 12000\n",
            "Harga telur: 24000\n"
          ]
        }
      ]
    },
    {
      "cell_type": "code",
      "source": [
        "gula, minyak = 14000, 20000\n",
        "print(\"Harga Gula:\", gula)\n",
        "print(\"Harga Minyak:\", minyak)"
      ],
      "metadata": {
        "colab": {
          "base_uri": "https://localhost:8080/"
        },
        "id": "NwzR3lKKPpy7",
        "outputId": "bfc92327-b90b-48be-c4c5-8c2e3b1b9ba4"
      },
      "execution_count": null,
      "outputs": [
        {
          "output_type": "stream",
          "name": "stdout",
          "text": [
            "Harga Gula: 14000\n",
            "Harga Minyak: 20000\n"
          ]
        }
      ]
    },
    {
      "cell_type": "code",
      "source": [
        "mie_ayam = mie_soto = mie_kari = 3500\n",
        "print(\"Harga Mie Ayam:\", mie_ayam)\n",
        "print(\"Harga Mie Soto:\", mie_soto)\n",
        "print(\"Harga Mie Kari:\", mie_kari)"
      ],
      "metadata": {
        "id": "Als1Pln-QXqw",
        "colab": {
          "base_uri": "https://localhost:8080/"
        },
        "outputId": "4b65eb8e-12bd-437c-e9c7-94c70485dea1"
      },
      "execution_count": null,
      "outputs": [
        {
          "output_type": "stream",
          "name": "stdout",
          "text": [
            "Harga Mie Ayam: 3500\n",
            "Harga Mie Soto: 3500\n",
            "Harga Mie Kari: 3500\n"
          ]
        }
      ]
    },
    {
      "cell_type": "code",
      "source": [
        "susu, roti = roti, susu\n",
        "print(\"Harga Susu setelah ditukar:\", susu)\n",
        "print(\"Harga Roti setelah ditukar:\", roti)"
      ],
      "metadata": {
        "colab": {
          "base_uri": "https://localhost:8080/"
        },
        "id": "w2OllDYdQ7o-",
        "outputId": "71221c99-8a5f-46c8-acf5-9e4efcd152b6"
      },
      "execution_count": null,
      "outputs": [
        {
          "output_type": "stream",
          "name": "stdout",
          "text": [
            "Harga Susu setelah ditukar: 12000\n",
            "Harga Roti setelah ditukar: 15000\n"
          ]
        }
      ]
    },
    {
      "cell_type": "markdown",
      "source": [
        "#ARITMATIKA"
      ],
      "metadata": {
        "id": "xfZkqBvsbRAb"
      }
    },
    {
      "cell_type": "code",
      "source": [
        "print(24*3)"
      ],
      "metadata": {
        "colab": {
          "base_uri": "https://localhost:8080/"
        },
        "id": "STg7yxR8bSsk",
        "outputId": "d7cf0254-a4f4-459c-cfe8-24e44e8be17b"
      },
      "execution_count": null,
      "outputs": [
        {
          "output_type": "stream",
          "name": "stdout",
          "text": [
            "72\n"
          ]
        }
      ]
    },
    {
      "cell_type": "code",
      "source": [
        "total_jumlah_botol = 24 * 3\n",
        "print(total_jumlah_botol)"
      ],
      "metadata": {
        "colab": {
          "base_uri": "https://localhost:8080/"
        },
        "id": "A4tUZC8wbZjj",
        "outputId": "44f0a61f-38c0-4ffb-d60d-f576170219c3"
      },
      "execution_count": null,
      "outputs": [
        {
          "output_type": "stream",
          "name": "stdout",
          "text": [
            "72\n"
          ]
        }
      ]
    },
    {
      "cell_type": "code",
      "source": [
        "banyak_botol_per_kardus = 24\n",
        "jumlah_kardus = 3\n",
        "print(banyak_botol_per_kardus * jumlah_kardus)"
      ],
      "metadata": {
        "colab": {
          "base_uri": "https://localhost:8080/"
        },
        "id": "qmn4EWZHbfHv",
        "outputId": "30f4e8ab-beeb-4590-eba4-c8eda3b89135"
      },
      "execution_count": null,
      "outputs": [
        {
          "output_type": "stream",
          "name": "stdout",
          "text": [
            "72\n"
          ]
        }
      ]
    },
    {
      "cell_type": "code",
      "source": [
        "banyak_botol_per_kardus = 24\n",
        "jumlah_kardus = 3\n",
        "total_jumlah_botol = banyak_botol_per_kardus * jumlah_kardus\n",
        "print(total_jumlah_botol)"
      ],
      "metadata": {
        "colab": {
          "base_uri": "https://localhost:8080/"
        },
        "id": "br98ZHd3bije",
        "outputId": "8de95a84-c65b-4881-9f34-11216ffa9b1d"
      },
      "execution_count": null,
      "outputs": [
        {
          "output_type": "stream",
          "name": "stdout",
          "text": [
            "72\n"
          ]
        }
      ]
    }
  ]
}